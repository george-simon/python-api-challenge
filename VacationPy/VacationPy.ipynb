{
 "cells": [
  {
   "cell_type": "markdown",
   "metadata": {},
   "source": [
    "# VacationPy\n",
    "----\n",
    "\n",
    "#### Note\n",
    "* Instructions have been included for each segment. You do not have to follow them exactly, but they are included to help you think through the steps."
   ]
  },
  {
   "cell_type": "code",
   "execution_count": 1,
   "metadata": {},
   "outputs": [],
   "source": [
    "# Dependencies and Setup\n",
    "import matplotlib.pyplot as plt\n",
    "import pandas as pd\n",
    "import numpy as np\n",
    "import requests\n",
    "import gmaps\n",
    "import os\n",
    "import json\n",
    "\n",
    "# Import API key\n",
    "from Config import g_key"
   ]
  },
  {
   "cell_type": "markdown",
   "metadata": {},
   "source": [
    "### Store Part I results into DataFrame\n",
    "* Load the csv exported in Part I to a DataFrame"
   ]
  },
  {
   "cell_type": "code",
   "execution_count": 37,
   "metadata": {},
   "outputs": [],
   "source": [
    "#CSV\n",
    "chart_data = pd.read_csv('../output_data/weather_city.csv')\n",
    "vac_df = pd.DataFrame(chart_data)\n"
   ]
  },
  {
   "cell_type": "markdown",
   "metadata": {},
   "source": [
    "### Humidity Heatmap\n",
    "* Configure gmaps.\n",
    "* Use the Lat and Lng as locations and Humidity as the weight.\n",
    "* Add Heatmap layer to map."
   ]
  },
  {
   "cell_type": "code",
   "execution_count": 38,
   "metadata": {},
   "outputs": [],
   "source": [
    "# Configure gmaps\n",
    "gmaps.configure(api_key = g_key)"
   ]
  },
  {
   "cell_type": "code",
   "execution_count": 39,
   "metadata": {},
   "outputs": [],
   "source": [
    "# Use the Lat and Lng as locations \n",
    "locations = vac_df[[\"lat\", \"lon\"]]\n",
    "\n",
    "# Humidity as the weight\n",
    "humidity = vac_df[\"humidity\"].astype(float)"
   ]
  },
  {
   "cell_type": "code",
   "execution_count": 44,
   "metadata": {},
   "outputs": [
    {
     "data": {
      "application/vnd.jupyter.widget-view+json": {
       "model_id": "02e8dfdca9c74030a478ab457f0b65e1",
       "version_major": 2,
       "version_minor": 0
      },
      "text/plain": [
       "Figure(layout=FigureLayout(border='1px solid black', height='500px', margin='0 auto 0 auto', padding='1px', wi…"
      ]
     },
     "metadata": {},
     "output_type": "display_data"
    }
   ],
   "source": [
    "# Customize the size of the figure\n",
    "figure_layout = {\n",
    "    'width': '600px',\n",
    "    'height': '500px',\n",
    "    'border': '1px solid black',\n",
    "    'padding': '1px',\n",
    "    'margin': '0 auto 0 auto'\n",
    "}\n",
    "fig = gmaps.figure(layout=figure_layout)\n",
    "\n",
    "\n",
    "# Create heat layer\n",
    "heat_layer = gmaps.heatmap_layer(locations, weights=humidity, \n",
    "                                 dissipating=False, max_intensity=5,\n",
    "                                 point_radius=2)\n",
    "\n",
    "\n",
    "# Add layer\n",
    "fig.add_layer(heat_layer)\n",
    "\n",
    "# Display figure\n",
    "fig"
   ]
  },
  {
   "cell_type": "markdown",
   "metadata": {},
   "source": [
    "### Create new DataFrame fitting weather criteria\n",
    "* Narrow down the cities to fit weather conditions.\n",
    "* Drop any rows will null values."
   ]
  },
  {
   "cell_type": "code",
   "execution_count": 45,
   "metadata": {},
   "outputs": [],
   "source": [
    "#locate vacation spots in the Philippians\n",
    "desired_df = vac_df.loc[(vac_df[\"max temp\"] < 75) & (vac_df[\"max temp\"] > 70) & \\\n",
    "                       (vac_df[\"wind_speed\"] < 10) & (vac_df[\"cloudiness\"] == 0)]\n"
   ]
  },
  {
   "cell_type": "markdown",
   "metadata": {},
   "source": [
    "### Hotel Map\n",
    "* Store into variable named `hotel_df`.\n",
    "* Add a \"Hotel Name\" column to the DataFrame.\n",
    "* Set parameters to search for hotels with 5000 meters.\n",
    "* Hit the Google Places API for each city's coordinates.\n",
    "* Store the first Hotel result into the DataFrame.\n",
    "* Plot markers on top of the heatmap."
   ]
  },
  {
   "cell_type": "code",
   "execution_count": 47,
   "metadata": {},
   "outputs": [
    {
     "name": "stderr",
     "output_type": "stream",
     "text": [
      "c:\\users\\simo8\\anaconda3\\envs\\pythondata\\lib\\site-packages\\ipykernel_launcher.py:2: SettingWithCopyWarning: \n",
      "A value is trying to be set on a copy of a slice from a DataFrame.\n",
      "Try using .loc[row_indexer,col_indexer] = value instead\n",
      "\n",
      "See the caveats in the documentation: https://pandas.pydata.org/pandas-docs/stable/user_guide/indexing.html#returning-a-view-versus-a-copy\n",
      "  \n"
     ]
    },
    {
     "data": {
      "text/html": [
       "<div>\n",
       "<style scoped>\n",
       "    .dataframe tbody tr th:only-of-type {\n",
       "        vertical-align: middle;\n",
       "    }\n",
       "\n",
       "    .dataframe tbody tr th {\n",
       "        vertical-align: top;\n",
       "    }\n",
       "\n",
       "    .dataframe thead th {\n",
       "        text-align: right;\n",
       "    }\n",
       "</style>\n",
       "<table border=\"1\" class=\"dataframe\">\n",
       "  <thead>\n",
       "    <tr style=\"text-align: right;\">\n",
       "      <th></th>\n",
       "      <th>city</th>\n",
       "      <th>lat</th>\n",
       "      <th>lon</th>\n",
       "      <th>max temp</th>\n",
       "      <th>humidity</th>\n",
       "      <th>cloudiness</th>\n",
       "      <th>wind_speed</th>\n",
       "      <th>country</th>\n",
       "      <th>date</th>\n",
       "      <th>hotel name</th>\n",
       "    </tr>\n",
       "  </thead>\n",
       "  <tbody>\n",
       "    <tr>\n",
       "      <th>27</th>\n",
       "      <td>vigrestad</td>\n",
       "      <td>-23.12</td>\n",
       "      <td>-134.97</td>\n",
       "      <td>73.80</td>\n",
       "      <td>78</td>\n",
       "      <td>0</td>\n",
       "      <td>5.19</td>\n",
       "      <td>PF</td>\n",
       "      <td>1596334142</td>\n",
       "      <td></td>\n",
       "    </tr>\n",
       "    <tr>\n",
       "      <th>90</th>\n",
       "      <td>albany</td>\n",
       "      <td>-8.93</td>\n",
       "      <td>125.41</td>\n",
       "      <td>70.93</td>\n",
       "      <td>38</td>\n",
       "      <td>0</td>\n",
       "      <td>4.29</td>\n",
       "      <td>TL</td>\n",
       "      <td>1596334158</td>\n",
       "      <td></td>\n",
       "    </tr>\n",
       "    <tr>\n",
       "      <th>209</th>\n",
       "      <td>west wendover</td>\n",
       "      <td>-19.01</td>\n",
       "      <td>-57.65</td>\n",
       "      <td>74.62</td>\n",
       "      <td>38</td>\n",
       "      <td>0</td>\n",
       "      <td>2.06</td>\n",
       "      <td>BR</td>\n",
       "      <td>1596334364</td>\n",
       "      <td></td>\n",
       "    </tr>\n",
       "    <tr>\n",
       "      <th>238</th>\n",
       "      <td>lompoc</td>\n",
       "      <td>63.92</td>\n",
       "      <td>127.47</td>\n",
       "      <td>73.80</td>\n",
       "      <td>41</td>\n",
       "      <td>0</td>\n",
       "      <td>4.09</td>\n",
       "      <td>RU</td>\n",
       "      <td>1596334371</td>\n",
       "      <td></td>\n",
       "    </tr>\n",
       "    <tr>\n",
       "      <th>353</th>\n",
       "      <td>pilar</td>\n",
       "      <td>47.87</td>\n",
       "      <td>88.12</td>\n",
       "      <td>72.39</td>\n",
       "      <td>30</td>\n",
       "      <td>0</td>\n",
       "      <td>2.93</td>\n",
       "      <td>CN</td>\n",
       "      <td>1596334399</td>\n",
       "      <td></td>\n",
       "    </tr>\n",
       "  </tbody>\n",
       "</table>\n",
       "</div>"
      ],
      "text/plain": [
       "              city    lat     lon  max temp  humidity  cloudiness  wind_speed  \\\n",
       "27       vigrestad -23.12 -134.97     73.80        78           0        5.19   \n",
       "90          albany  -8.93  125.41     70.93        38           0        4.29   \n",
       "209  west wendover -19.01  -57.65     74.62        38           0        2.06   \n",
       "238         lompoc  63.92  127.47     73.80        41           0        4.09   \n",
       "353          pilar  47.87   88.12     72.39        30           0        2.93   \n",
       "\n",
       "    country        date hotel name  \n",
       "27       PF  1596334142             \n",
       "90       TL  1596334158             \n",
       "209      BR  1596334364             \n",
       "238      RU  1596334371             \n",
       "353      CN  1596334399             "
      ]
     },
     "execution_count": 47,
     "metadata": {},
     "output_type": "execute_result"
    }
   ],
   "source": [
    "# set up additional columns to hold information\n",
    "desired_df[\"hotel name\"] = \"\"\n",
    "desired_df.head()"
   ]
  },
  {
   "cell_type": "code",
   "execution_count": 48,
   "metadata": {},
   "outputs": [],
   "source": [
    "# # Store 'Lat' and 'Lng' into  locations \n",
    "# locations = desired_df[[\"lat\", \"lon\"]].astype(float)\n",
    "\n",
    "desired_df_complete = desired_df.dropna()"
   ]
  },
  {
   "cell_type": "code",
   "execution_count": 9,
   "metadata": {},
   "outputs": [],
   "source": [
    "# #Test Dataframe of two lat lng coordinates\n",
    "# lat_lng_test_df = pd.DataFrame({\"lat\": [49.14, 36.56], \"lon\": [56.49, 104.21]})\n",
    "\n",
    "\n",
    "# # complete_list= lat_df + lon_df\n",
    "\n",
    "# # use iterrows to iterate through pandas dataframe\n",
    "# for index, row in lat_lng_test_df.iterrows():\n",
    "    \n",
    "#     base_url = \"https://maps.googleapis.com/maps/api/place/nearbysearch/json\"\n",
    "#     params = {\n",
    "#         \"location\": f\"{row[0]}, {row[1]}\", \n",
    "#         \"rankby\": \"distance\",\n",
    "#         \"type\": \"lodging\",\n",
    "#         \"key\": g_key,\n",
    "#         }\n",
    "\n",
    "#     # assemble url and make API request\n",
    "#     response = requests.get(base_url, params=params).json()\n",
    "#     print(json.dumps(response, indent = 3))\n",
    "    \n",
    "#     # extract results\n",
    "#     results = response['results']\n",
    "    \n",
    "#     try:    \n",
    "#         lat_lng_test_df.loc[index, 'lodging'] = results[0]['name']\n",
    "        \n",
    "#     except (KeyError, IndexError):\n",
    "#         print(\"Missing field/result... skipping.\")\n",
    "        \n",
    "# lat_lng_test_df"
   ]
  },
  {
   "cell_type": "code",
   "execution_count": 49,
   "metadata": {},
   "outputs": [
    {
     "name": "stdout",
     "output_type": "stream",
     "text": [
      "Missing field/result... skipping.\n"
     ]
    }
   ],
   "source": [
    "# find the closest hotel of each type to coordinates\n",
    "#https://developers.google.com/places/web-service/supported_types\n",
    "#https://developers.google.com/places/web-service/search#PlaceSearchRequests\n",
    "\n",
    "# use iterrows to iterate through pandas dataframe\n",
    "for index, row in desired_df_complete.iterrows():\n",
    "    \n",
    "    base_url = \"https://maps.googleapis.com/maps/api/place/nearbysearch/json\"\n",
    "    params = {\n",
    "        \"location\": f\"{row[1]}, {row[2]}\", \n",
    "        \"rankby\": \"distance\",\n",
    "        \"type\": \"lodging\",\n",
    "        \"key\": g_key,\n",
    "        }\n",
    "\n",
    "    # assemble url and make API request\n",
    "    response = requests.get(base_url, params=params).json()\n",
    "#     print(json.dumps(response, indent = 3))\n",
    "    \n",
    "    # extract results\n",
    "    results = response['results']\n",
    "    \n",
    "    try:    \n",
    "        desired_df_complete.loc[index, 'hotel name'] = results[0]['name']\n",
    "        \n",
    "    except (KeyError, IndexError):\n",
    "        print(\"Missing field/result... skipping.\")"
   ]
  },
  {
   "cell_type": "code",
   "execution_count": 50,
   "metadata": {},
   "outputs": [
    {
     "data": {
      "text/html": [
       "<div>\n",
       "<style scoped>\n",
       "    .dataframe tbody tr th:only-of-type {\n",
       "        vertical-align: middle;\n",
       "    }\n",
       "\n",
       "    .dataframe tbody tr th {\n",
       "        vertical-align: top;\n",
       "    }\n",
       "\n",
       "    .dataframe thead th {\n",
       "        text-align: right;\n",
       "    }\n",
       "</style>\n",
       "<table border=\"1\" class=\"dataframe\">\n",
       "  <thead>\n",
       "    <tr style=\"text-align: right;\">\n",
       "      <th></th>\n",
       "      <th>city</th>\n",
       "      <th>lat</th>\n",
       "      <th>lon</th>\n",
       "      <th>max temp</th>\n",
       "      <th>humidity</th>\n",
       "      <th>cloudiness</th>\n",
       "      <th>wind_speed</th>\n",
       "      <th>country</th>\n",
       "      <th>date</th>\n",
       "      <th>hotel name</th>\n",
       "    </tr>\n",
       "  </thead>\n",
       "  <tbody>\n",
       "    <tr>\n",
       "      <th>27</th>\n",
       "      <td>vigrestad</td>\n",
       "      <td>-23.12</td>\n",
       "      <td>-134.97</td>\n",
       "      <td>73.80</td>\n",
       "      <td>78</td>\n",
       "      <td>0</td>\n",
       "      <td>5.19</td>\n",
       "      <td>PF</td>\n",
       "      <td>1596334142</td>\n",
       "      <td>Pension Maro'i</td>\n",
       "    </tr>\n",
       "    <tr>\n",
       "      <th>90</th>\n",
       "      <td>albany</td>\n",
       "      <td>-8.93</td>\n",
       "      <td>125.41</td>\n",
       "      <td>70.93</td>\n",
       "      <td>38</td>\n",
       "      <td>0</td>\n",
       "      <td>4.29</td>\n",
       "      <td>TL</td>\n",
       "      <td>1596334158</td>\n",
       "      <td>Juvinal Martin</td>\n",
       "    </tr>\n",
       "    <tr>\n",
       "      <th>209</th>\n",
       "      <td>west wendover</td>\n",
       "      <td>-19.01</td>\n",
       "      <td>-57.65</td>\n",
       "      <td>74.62</td>\n",
       "      <td>38</td>\n",
       "      <td>0</td>\n",
       "      <td>2.06</td>\n",
       "      <td>BR</td>\n",
       "      <td>1596334364</td>\n",
       "      <td>Hotel El Shadday</td>\n",
       "    </tr>\n",
       "    <tr>\n",
       "      <th>353</th>\n",
       "      <td>pilar</td>\n",
       "      <td>47.87</td>\n",
       "      <td>88.12</td>\n",
       "      <td>72.39</td>\n",
       "      <td>30</td>\n",
       "      <td>0</td>\n",
       "      <td>2.93</td>\n",
       "      <td>CN</td>\n",
       "      <td>1596334399</td>\n",
       "      <td>陶然家园</td>\n",
       "    </tr>\n",
       "    <tr>\n",
       "      <th>396</th>\n",
       "      <td>buenaventura</td>\n",
       "      <td>39.05</td>\n",
       "      <td>-27.98</td>\n",
       "      <td>70.92</td>\n",
       "      <td>70</td>\n",
       "      <td>0</td>\n",
       "      <td>8.41</td>\n",
       "      <td>PT</td>\n",
       "      <td>1596334410</td>\n",
       "      <td>Camping's Pine Park</td>\n",
       "    </tr>\n",
       "    <tr>\n",
       "      <th>473</th>\n",
       "      <td>tahta</td>\n",
       "      <td>36.56</td>\n",
       "      <td>104.21</td>\n",
       "      <td>73.40</td>\n",
       "      <td>28</td>\n",
       "      <td>0</td>\n",
       "      <td>6.71</td>\n",
       "      <td>CN</td>\n",
       "      <td>1596334428</td>\n",
       "      <td>Super 8 Hotel Baiyin Jing Tai Square</td>\n",
       "    </tr>\n",
       "    <tr>\n",
       "      <th>486</th>\n",
       "      <td>flin flon</td>\n",
       "      <td>-17.78</td>\n",
       "      <td>-57.77</td>\n",
       "      <td>73.54</td>\n",
       "      <td>41</td>\n",
       "      <td>0</td>\n",
       "      <td>1.59</td>\n",
       "      <td>BO</td>\n",
       "      <td>1596334431</td>\n",
       "      <td>Hotel palance</td>\n",
       "    </tr>\n",
       "    <tr>\n",
       "      <th>487</th>\n",
       "      <td>anderson</td>\n",
       "      <td>49.63</td>\n",
       "      <td>-105.98</td>\n",
       "      <td>73.27</td>\n",
       "      <td>39</td>\n",
       "      <td>0</td>\n",
       "      <td>7.72</td>\n",
       "      <td>CA</td>\n",
       "      <td>1596334431</td>\n",
       "      <td>Bar B Motel</td>\n",
       "    </tr>\n",
       "  </tbody>\n",
       "</table>\n",
       "</div>"
      ],
      "text/plain": [
       "              city    lat     lon  max temp  humidity  cloudiness  wind_speed  \\\n",
       "27       vigrestad -23.12 -134.97     73.80        78           0        5.19   \n",
       "90          albany  -8.93  125.41     70.93        38           0        4.29   \n",
       "209  west wendover -19.01  -57.65     74.62        38           0        2.06   \n",
       "353          pilar  47.87   88.12     72.39        30           0        2.93   \n",
       "396   buenaventura  39.05  -27.98     70.92        70           0        8.41   \n",
       "473          tahta  36.56  104.21     73.40        28           0        6.71   \n",
       "486      flin flon -17.78  -57.77     73.54        41           0        1.59   \n",
       "487       anderson  49.63 -105.98     73.27        39           0        7.72   \n",
       "\n",
       "    country        date                            hotel name  \n",
       "27       PF  1596334142                        Pension Maro'i  \n",
       "90       TL  1596334158                        Juvinal Martin  \n",
       "209      BR  1596334364                      Hotel El Shadday  \n",
       "353      CN  1596334399                                  陶然家园  \n",
       "396      PT  1596334410                   Camping's Pine Park  \n",
       "473      CN  1596334428  Super 8 Hotel Baiyin Jing Tai Square  \n",
       "486      BO  1596334431                         Hotel palance  \n",
       "487      CA  1596334431                           Bar B Motel  "
      ]
     },
     "execution_count": 50,
     "metadata": {},
     "output_type": "execute_result"
    }
   ],
   "source": [
    "#clean up result\n",
    "#resource: https://stackoverflow.com/questions/29314033/drop-rows-containing-empty-cells-from-a-pandas-dataframe\n",
    "desired_df_complete['hotel name'].replace('', np.nan, inplace=True)\n",
    "desired_df_complete\n",
    "hotel_df = desired_df_complete.dropna()\n",
    "hotel_df"
   ]
  },
  {
   "cell_type": "code",
   "execution_count": 51,
   "metadata": {},
   "outputs": [],
   "source": [
    "# NOTE: Do not change any of the code in this cell\n",
    "\n",
    "# Using the template add the hotel marks to the heatmap\n",
    "info_box_template = \"\"\"\n",
    "<dl>\n",
    "<dt>Name</dt><dd>{hotel name}</dd>\n",
    "<dt>City</dt><dd>{city}</dd>\n",
    "<dt>Country</dt><dd>{country}</dd>\n",
    "</dl>\n",
    "\"\"\"\n",
    "# Store the DataFrame Row\n",
    "# NOTE: be sure to update with your DataFrame name\n",
    "hotel_info = [info_box_template.format(**row) for index, row in hotel_df.iterrows()]\n",
    "locations = hotel_df[[\"lat\", \"lon\"]]"
   ]
  },
  {
   "cell_type": "code",
   "execution_count": 52,
   "metadata": {},
   "outputs": [
    {
     "data": {
      "application/vnd.jupyter.widget-view+json": {
       "model_id": "09720d4c3560459cbe6d204c1f5c596d",
       "version_major": 2,
       "version_minor": 0
      },
      "text/plain": [
       "Figure(layout=FigureLayout(border='1px solid black', height='500px', margin='0 auto 0 auto', padding='1px', wi…"
      ]
     },
     "metadata": {},
     "output_type": "display_data"
    }
   ],
   "source": [
    "# Add marker layer ontop of heat map\n",
    "hotel_layer = gmaps.marker_layer(locations)\n",
    "\n",
    "# Customize the size of the figure\n",
    "figure_layout = {\n",
    "    'width': '600px',\n",
    "    'height': '500px',\n",
    "    'border': '1px solid black',\n",
    "    'padding': '1px',\n",
    "    'margin': '0 auto 0 auto'\n",
    "}\n",
    "fig = gmaps.figure(layout=figure_layout)\n",
    "\n",
    "# Create a combined map\n",
    "# fig = gmaps.figure()\n",
    "\n",
    "fig.add_layer(heat_layer)\n",
    "fig.add_layer(hotel_layer)\n",
    "\n",
    "fig\n"
   ]
  },
  {
   "cell_type": "code",
   "execution_count": null,
   "metadata": {},
   "outputs": [],
   "source": []
  }
 ],
 "metadata": {
  "kernelspec": {
   "display_name": "Python 3",
   "language": "python",
   "name": "python3"
  },
  "language_info": {
   "codemirror_mode": {
    "name": "ipython",
    "version": 3
   },
   "file_extension": ".py",
   "mimetype": "text/x-python",
   "name": "python",
   "nbconvert_exporter": "python",
   "pygments_lexer": "ipython3",
   "version": "3.6.10"
  },
  "latex_envs": {
   "LaTeX_envs_menu_present": true,
   "autoclose": false,
   "autocomplete": true,
   "bibliofile": "biblio.bib",
   "cite_by": "apalike",
   "current_citInitial": 1,
   "eqLabelWithNumbers": true,
   "eqNumInitial": 1,
   "hotkeys": {
    "equation": "Ctrl-E",
    "itemize": "Ctrl-I"
   },
   "labels_anchors": false,
   "latex_user_defs": false,
   "report_style_numbering": false,
   "user_envs_cfg": false
  }
 },
 "nbformat": 4,
 "nbformat_minor": 2
}
