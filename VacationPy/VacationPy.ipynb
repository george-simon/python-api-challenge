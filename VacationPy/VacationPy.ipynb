{
 "cells": [
  {
   "cell_type": "markdown",
   "metadata": {},
   "source": [
    "# VacationPy\n",
    "----\n",
    "\n",
    "#### Note\n",
    "* Instructions have been included for each segment. You do not have to follow them exactly, but they are included to help you think through the steps."
   ]
  },
  {
   "cell_type": "code",
   "execution_count": 4,
   "metadata": {},
   "outputs": [],
   "source": [
    "# Dependencies and Setup\n",
    "import matplotlib.pyplot as plt\n",
    "import pandas as pd\n",
    "import numpy as np\n",
    "import requests\n",
    "import gmaps\n",
    "import os\n",
    "\n",
    "# Import API key\n",
    "from Config import g_key"
   ]
  },
  {
   "cell_type": "markdown",
   "metadata": {},
   "source": [
    "### Store Part I results into DataFrame\n",
    "* Load the csv exported in Part I to a DataFrame"
   ]
  },
  {
   "cell_type": "code",
   "execution_count": 26,
   "metadata": {},
   "outputs": [
    {
     "data": {
      "text/html": [
       "<div>\n",
       "<style scoped>\n",
       "    .dataframe tbody tr th:only-of-type {\n",
       "        vertical-align: middle;\n",
       "    }\n",
       "\n",
       "    .dataframe tbody tr th {\n",
       "        vertical-align: top;\n",
       "    }\n",
       "\n",
       "    .dataframe thead th {\n",
       "        text-align: right;\n",
       "    }\n",
       "</style>\n",
       "<table border=\"1\" class=\"dataframe\">\n",
       "  <thead>\n",
       "    <tr style=\"text-align: right;\">\n",
       "      <th></th>\n",
       "      <th>city</th>\n",
       "      <th>lat</th>\n",
       "      <th>lon</th>\n",
       "      <th>max temp</th>\n",
       "      <th>humidity</th>\n",
       "      <th>cloudiness</th>\n",
       "      <th>wind_speed</th>\n",
       "      <th>country</th>\n",
       "      <th>date</th>\n",
       "    </tr>\n",
       "  </thead>\n",
       "  <tbody>\n",
       "    <tr>\n",
       "      <th>95</th>\n",
       "      <td>jomalig</td>\n",
       "      <td>13.93</td>\n",
       "      <td>121.42</td>\n",
       "      <td>79.43</td>\n",
       "      <td>78</td>\n",
       "      <td>100</td>\n",
       "      <td>1.74</td>\n",
       "      <td>PH</td>\n",
       "      <td>1596334159</td>\n",
       "    </tr>\n",
       "    <tr>\n",
       "      <th>133</th>\n",
       "      <td>darhan</td>\n",
       "      <td>11.00</td>\n",
       "      <td>122.67</td>\n",
       "      <td>83.26</td>\n",
       "      <td>73</td>\n",
       "      <td>100</td>\n",
       "      <td>4.47</td>\n",
       "      <td>PH</td>\n",
       "      <td>1596334344</td>\n",
       "    </tr>\n",
       "    <tr>\n",
       "      <th>307</th>\n",
       "      <td>barbacoas</td>\n",
       "      <td>12.68</td>\n",
       "      <td>124.36</td>\n",
       "      <td>82.99</td>\n",
       "      <td>69</td>\n",
       "      <td>100</td>\n",
       "      <td>3.44</td>\n",
       "      <td>PH</td>\n",
       "      <td>1596334388</td>\n",
       "    </tr>\n",
       "    <tr>\n",
       "      <th>356</th>\n",
       "      <td>plettenberg bay</td>\n",
       "      <td>14.35</td>\n",
       "      <td>121.02</td>\n",
       "      <td>82.40</td>\n",
       "      <td>83</td>\n",
       "      <td>100</td>\n",
       "      <td>6.93</td>\n",
       "      <td>PH</td>\n",
       "      <td>1596334400</td>\n",
       "    </tr>\n",
       "    <tr>\n",
       "      <th>357</th>\n",
       "      <td>mvomero</td>\n",
       "      <td>6.52</td>\n",
       "      <td>124.58</td>\n",
       "      <td>85.89</td>\n",
       "      <td>64</td>\n",
       "      <td>67</td>\n",
       "      <td>2.95</td>\n",
       "      <td>PH</td>\n",
       "      <td>1596334400</td>\n",
       "    </tr>\n",
       "    <tr>\n",
       "      <th>375</th>\n",
       "      <td>calama</td>\n",
       "      <td>9.56</td>\n",
       "      <td>122.49</td>\n",
       "      <td>85.44</td>\n",
       "      <td>63</td>\n",
       "      <td>95</td>\n",
       "      <td>2.77</td>\n",
       "      <td>PH</td>\n",
       "      <td>1596334404</td>\n",
       "    </tr>\n",
       "    <tr>\n",
       "      <th>454</th>\n",
       "      <td>isperih</td>\n",
       "      <td>9.25</td>\n",
       "      <td>118.41</td>\n",
       "      <td>84.20</td>\n",
       "      <td>74</td>\n",
       "      <td>100</td>\n",
       "      <td>5.26</td>\n",
       "      <td>PH</td>\n",
       "      <td>1596334423</td>\n",
       "    </tr>\n",
       "    <tr>\n",
       "      <th>476</th>\n",
       "      <td>zhangye</td>\n",
       "      <td>16.13</td>\n",
       "      <td>119.78</td>\n",
       "      <td>77.72</td>\n",
       "      <td>88</td>\n",
       "      <td>100</td>\n",
       "      <td>8.95</td>\n",
       "      <td>PH</td>\n",
       "      <td>1596334429</td>\n",
       "    </tr>\n",
       "  </tbody>\n",
       "</table>\n",
       "</div>"
      ],
      "text/plain": [
       "                city    lat     lon  max temp  humidity  cloudiness  \\\n",
       "95           jomalig  13.93  121.42     79.43        78         100   \n",
       "133           darhan  11.00  122.67     83.26        73         100   \n",
       "307        barbacoas  12.68  124.36     82.99        69         100   \n",
       "356  plettenberg bay  14.35  121.02     82.40        83         100   \n",
       "357          mvomero   6.52  124.58     85.89        64          67   \n",
       "375           calama   9.56  122.49     85.44        63          95   \n",
       "454          isperih   9.25  118.41     84.20        74         100   \n",
       "476          zhangye  16.13  119.78     77.72        88         100   \n",
       "\n",
       "     wind_speed country        date  \n",
       "95         1.74      PH  1596334159  \n",
       "133        4.47      PH  1596334344  \n",
       "307        3.44      PH  1596334388  \n",
       "356        6.93      PH  1596334400  \n",
       "357        2.95      PH  1596334400  \n",
       "375        2.77      PH  1596334404  \n",
       "454        5.26      PH  1596334423  \n",
       "476        8.95      PH  1596334429  "
      ]
     },
     "execution_count": 26,
     "metadata": {},
     "output_type": "execute_result"
    }
   ],
   "source": [
    "#CSV\n",
    "chart_data = pd.read_csv('../output_data/weather_city.csv')\n",
    "vac_df = pd.DataFrame(chart_data)\n"
   ]
  },
  {
   "cell_type": "markdown",
   "metadata": {},
   "source": [
    "### Humidity Heatmap\n",
    "* Configure gmaps.\n",
    "* Use the Lat and Lng as locations and Humidity as the weight.\n",
    "* Add Heatmap layer to map."
   ]
  },
  {
   "cell_type": "code",
   "execution_count": 7,
   "metadata": {},
   "outputs": [],
   "source": [
    "# Configure gmaps\n",
    "gmaps.configure(api_key = g_key)"
   ]
  },
  {
   "cell_type": "code",
   "execution_count": 29,
   "metadata": {},
   "outputs": [],
   "source": [
    "# Use the Lat and Lng as locations \n",
    "locations = vac_df[[\"lat\", \"lon\"]]\n",
    "\n",
    "# Humidity as the weight\n",
    "humidity = vac_df[\"humidity\"].astype(float)"
   ]
  },
  {
   "cell_type": "code",
   "execution_count": 30,
   "metadata": {},
   "outputs": [
    {
     "data": {
      "application/vnd.jupyter.widget-view+json": {
       "model_id": "77a21b73196b4c46afcaa73517af820d",
       "version_major": 2,
       "version_minor": 0
      },
      "text/plain": [
       "Figure(layout=FigureLayout(height='420px'))"
      ]
     },
     "metadata": {},
     "output_type": "display_data"
    }
   ],
   "source": [
    "# Plot Heatmap\n",
    "fig = gmaps.figure()\n",
    "\n",
    "# Create heat layer\n",
    "heat_layer = gmaps.heatmap_layer(locations, weights=humidity, \n",
    "                                 dissipating=False, max_intensity=10,\n",
    "                                 point_radius=1)\n",
    "\n",
    "\n",
    "# Add layer\n",
    "fig.add_layer(heat_layer)\n",
    "\n",
    "# Display figure\n",
    "fig"
   ]
  },
  {
   "cell_type": "markdown",
   "metadata": {},
   "source": [
    "### Create new DataFrame fitting weather criteria\n",
    "* Narrow down the cities to fit weather conditions.\n",
    "* Drop any rows will null values."
   ]
  },
  {
   "cell_type": "code",
   "execution_count": 34,
   "metadata": {},
   "outputs": [],
   "source": [
    "#locate vacation spots in the Philippians\n",
    "desired_df = vac_df.loc[(vac_df[\"max temp\"] < 80) & (vac_df[\"max temp\"] > 70) & \\\n",
    "                       (vac_df[\"wind_speed\"] < 10) & (vac_df[\"cloudiness\"] == 0)]\n"
   ]
  },
  {
   "cell_type": "markdown",
   "metadata": {},
   "source": [
    "### Hotel Map\n",
    "* Store into variable named `hotel_df`.\n",
    "* Add a \"Hotel Name\" column to the DataFrame.\n",
    "* Set parameters to search for hotels with 5000 meters.\n",
    "* Hit the Google Places API for each city's coordinates.\n",
    "* Store the first Hotel result into the DataFrame.\n",
    "* Plot markers on top of the heatmap."
   ]
  },
  {
   "cell_type": "code",
   "execution_count": 39,
   "metadata": {},
   "outputs": [
    {
     "name": "stderr",
     "output_type": "stream",
     "text": [
      "c:\\users\\simo8\\anaconda3\\envs\\pythondata\\lib\\site-packages\\ipykernel_launcher.py:2: SettingWithCopyWarning: \n",
      "A value is trying to be set on a copy of a slice from a DataFrame.\n",
      "Try using .loc[row_indexer,col_indexer] = value instead\n",
      "\n",
      "See the caveats in the documentation: https://pandas.pydata.org/pandas-docs/stable/user_guide/indexing.html#returning-a-view-versus-a-copy\n",
      "  \n"
     ]
    },
    {
     "data": {
      "text/html": [
       "<div>\n",
       "<style scoped>\n",
       "    .dataframe tbody tr th:only-of-type {\n",
       "        vertical-align: middle;\n",
       "    }\n",
       "\n",
       "    .dataframe tbody tr th {\n",
       "        vertical-align: top;\n",
       "    }\n",
       "\n",
       "    .dataframe thead th {\n",
       "        text-align: right;\n",
       "    }\n",
       "</style>\n",
       "<table border=\"1\" class=\"dataframe\">\n",
       "  <thead>\n",
       "    <tr style=\"text-align: right;\">\n",
       "      <th></th>\n",
       "      <th>city</th>\n",
       "      <th>lat</th>\n",
       "      <th>lon</th>\n",
       "      <th>max temp</th>\n",
       "      <th>humidity</th>\n",
       "      <th>cloudiness</th>\n",
       "      <th>wind_speed</th>\n",
       "      <th>country</th>\n",
       "      <th>date</th>\n",
       "      <th>hotel name</th>\n",
       "    </tr>\n",
       "  </thead>\n",
       "  <tbody>\n",
       "    <tr>\n",
       "      <th>27</th>\n",
       "      <td>vigrestad</td>\n",
       "      <td>-23.12</td>\n",
       "      <td>-134.97</td>\n",
       "      <td>73.80</td>\n",
       "      <td>78</td>\n",
       "      <td>0</td>\n",
       "      <td>5.19</td>\n",
       "      <td>PF</td>\n",
       "      <td>1596334142</td>\n",
       "      <td></td>\n",
       "    </tr>\n",
       "    <tr>\n",
       "      <th>70</th>\n",
       "      <td>port blair</td>\n",
       "      <td>30.76</td>\n",
       "      <td>20.23</td>\n",
       "      <td>76.35</td>\n",
       "      <td>91</td>\n",
       "      <td>0</td>\n",
       "      <td>8.75</td>\n",
       "      <td>LY</td>\n",
       "      <td>1596333857</td>\n",
       "      <td></td>\n",
       "    </tr>\n",
       "    <tr>\n",
       "      <th>90</th>\n",
       "      <td>albany</td>\n",
       "      <td>-8.93</td>\n",
       "      <td>125.41</td>\n",
       "      <td>70.93</td>\n",
       "      <td>38</td>\n",
       "      <td>0</td>\n",
       "      <td>4.29</td>\n",
       "      <td>TL</td>\n",
       "      <td>1596334158</td>\n",
       "      <td></td>\n",
       "    </tr>\n",
       "    <tr>\n",
       "      <th>101</th>\n",
       "      <td>chuy</td>\n",
       "      <td>36.41</td>\n",
       "      <td>64.91</td>\n",
       "      <td>75.00</td>\n",
       "      <td>28</td>\n",
       "      <td>0</td>\n",
       "      <td>1.34</td>\n",
       "      <td>AF</td>\n",
       "      <td>1596334161</td>\n",
       "      <td></td>\n",
       "    </tr>\n",
       "    <tr>\n",
       "      <th>131</th>\n",
       "      <td>east london</td>\n",
       "      <td>14.90</td>\n",
       "      <td>-24.50</td>\n",
       "      <td>77.45</td>\n",
       "      <td>84</td>\n",
       "      <td>0</td>\n",
       "      <td>3.24</td>\n",
       "      <td>CV</td>\n",
       "      <td>1596334343</td>\n",
       "      <td></td>\n",
       "    </tr>\n",
       "  </tbody>\n",
       "</table>\n",
       "</div>"
      ],
      "text/plain": [
       "            city    lat     lon  max temp  humidity  cloudiness  wind_speed  \\\n",
       "27     vigrestad -23.12 -134.97     73.80        78           0        5.19   \n",
       "70    port blair  30.76   20.23     76.35        91           0        8.75   \n",
       "90        albany  -8.93  125.41     70.93        38           0        4.29   \n",
       "101         chuy  36.41   64.91     75.00        28           0        1.34   \n",
       "131  east london  14.90  -24.50     77.45        84           0        3.24   \n",
       "\n",
       "    country        date hotel name  \n",
       "27       PF  1596334142             \n",
       "70       LY  1596333857             \n",
       "90       TL  1596334158             \n",
       "101      AF  1596334161             \n",
       "131      CV  1596334343             "
      ]
     },
     "execution_count": 39,
     "metadata": {},
     "output_type": "execute_result"
    }
   ],
   "source": [
    "# set up additional columns to hold information\n",
    "desired_df[\"hotel name\"] = \"\"\n",
    "desired_df.head()"
   ]
  },
  {
   "cell_type": "code",
   "execution_count": 41,
   "metadata": {},
   "outputs": [
    {
     "ename": "NameError",
     "evalue": "name 'restr_type' is not defined",
     "output_type": "error",
     "traceback": [
      "\u001b[1;31m---------------------------------------------------------------------------\u001b[0m",
      "\u001b[1;31mNameError\u001b[0m                                 Traceback (most recent call last)",
      "\u001b[1;32m<ipython-input-41-e9fa9b69dc4a>\u001b[0m in \u001b[0;36m<module>\u001b[1;34m\u001b[0m\n\u001b[0;32m     18\u001b[0m \u001b[1;33m\u001b[0m\u001b[0m\n\u001b[0;32m     19\u001b[0m     \u001b[1;31m# assemble url and make API request\u001b[0m\u001b[1;33m\u001b[0m\u001b[1;33m\u001b[0m\u001b[1;33m\u001b[0m\u001b[0m\n\u001b[1;32m---> 20\u001b[1;33m     \u001b[0mprint\u001b[0m\u001b[1;33m(\u001b[0m\u001b[1;34mf\"Retrieving Results for Index {index}: {restr_type}.\"\u001b[0m\u001b[1;33m)\u001b[0m\u001b[1;33m\u001b[0m\u001b[1;33m\u001b[0m\u001b[0m\n\u001b[0m\u001b[0;32m     21\u001b[0m     \u001b[0mresponse\u001b[0m \u001b[1;33m=\u001b[0m \u001b[0mrequests\u001b[0m\u001b[1;33m.\u001b[0m\u001b[0mget\u001b[0m\u001b[1;33m(\u001b[0m\u001b[0mbase_url\u001b[0m\u001b[1;33m,\u001b[0m \u001b[0mparams\u001b[0m\u001b[1;33m=\u001b[0m\u001b[0mparams\u001b[0m\u001b[1;33m)\u001b[0m\u001b[1;33m.\u001b[0m\u001b[0mjson\u001b[0m\u001b[1;33m(\u001b[0m\u001b[1;33m)\u001b[0m\u001b[1;33m\u001b[0m\u001b[1;33m\u001b[0m\u001b[0m\n\u001b[0;32m     22\u001b[0m \u001b[1;33m\u001b[0m\u001b[0m\n",
      "\u001b[1;31mNameError\u001b[0m: name 'restr_type' is not defined"
     ]
    }
   ],
   "source": [
    "# find the closest hotel of each type to coordinates\n",
    "\n",
    "base_url = \"https://maps.googleapis.com/maps/api/place/nearbysearch/json\"\n",
    "params = {\n",
    "    \"location\": \"lat,lon\", \n",
    "    \"rankby\": \"distance\",\n",
    "    \"type\": \"hotel\",\n",
    "    \"key\": g_key,\n",
    "}\n",
    "# use iterrows to iterate through pandas dataframe\n",
    "for index, row in desired_df.iterrows():\n",
    "\n",
    "#     # get restaurant type from df\n",
    "#     restr_type = row['ethnicity']\n",
    "\n",
    "#     # add keyword to params dict\n",
    "#     params['keyword'] = restr_type\n",
    "\n",
    "    # assemble url and make API request\n",
    "    print(f\"Retrieving Results for Index {index}: {restr_type}.\")\n",
    "    response = requests.get(base_url, params=params).json()\n",
    "    \n",
    "    # extract results\n",
    "    results = response['results']\n",
    "    \n",
    "    try:\n",
    "        print(f\"Closest {restr_type} restaurant is {results[0]['name']}.\")\n",
    "        \n",
    "        desired_df.loc[index, 'name'] = results[0]['name']\n",
    "        desired_df.loc[index, 'address'] = results[0]['vicinity']\n",
    "        desired_df.loc[index, 'price_level'] = results[0]['price_level']\n",
    "        desired_df.loc[index, 'rating'] = results[0]['rating']\n",
    "        \n",
    "    except (KeyError, IndexError):\n",
    "        print(\"Missing field/result... skipping.\")\n",
    "        \n",
    "    print(\"------------\")"
   ]
  },
  {
   "cell_type": "code",
   "execution_count": null,
   "metadata": {},
   "outputs": [],
   "source": [
    "# NOTE: Do not change any of the code in this cell\n",
    "\n",
    "# Using the template add the hotel marks to the heatmap\n",
    "info_box_template = \"\"\"\n",
    "<dl>\n",
    "<dt>Name</dt><dd>{Hotel Name}</dd>\n",
    "<dt>City</dt><dd>{City}</dd>\n",
    "<dt>Country</dt><dd>{Country}</dd>\n",
    "</dl>\n",
    "\"\"\"\n",
    "# Store the DataFrame Row\n",
    "# NOTE: be sure to update with your DataFrame name\n",
    "hotel_info = [info_box_template.format(**row) for index, row in hotel_df.iterrows()]\n",
    "locations = hotel_df[[\"Lat\", \"Lng\"]]"
   ]
  },
  {
   "cell_type": "code",
   "execution_count": null,
   "metadata": {},
   "outputs": [],
   "source": [
    "# Add marker layer ontop of heat map\n",
    "\n",
    "\n",
    "# Display figure\n"
   ]
  },
  {
   "cell_type": "code",
   "execution_count": null,
   "metadata": {},
   "outputs": [],
   "source": []
  }
 ],
 "metadata": {
  "kernelspec": {
   "display_name": "Python 3",
   "language": "python",
   "name": "python3"
  },
  "language_info": {
   "codemirror_mode": {
    "name": "ipython",
    "version": 3
   },
   "file_extension": ".py",
   "mimetype": "text/x-python",
   "name": "python",
   "nbconvert_exporter": "python",
   "pygments_lexer": "ipython3",
   "version": "3.6.10"
  },
  "latex_envs": {
   "LaTeX_envs_menu_present": true,
   "autoclose": false,
   "autocomplete": true,
   "bibliofile": "biblio.bib",
   "cite_by": "apalike",
   "current_citInitial": 1,
   "eqLabelWithNumbers": true,
   "eqNumInitial": 1,
   "hotkeys": {
    "equation": "Ctrl-E",
    "itemize": "Ctrl-I"
   },
   "labels_anchors": false,
   "latex_user_defs": false,
   "report_style_numbering": false,
   "user_envs_cfg": false
  }
 },
 "nbformat": 4,
 "nbformat_minor": 2
}
